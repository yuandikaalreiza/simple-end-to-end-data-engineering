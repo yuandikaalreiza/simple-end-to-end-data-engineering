{
 "cells": [
  {
   "cell_type": "code",
   "execution_count": 1,
   "metadata": {},
   "outputs": [],
   "source": [
    "import requests\n",
    "from bs4 import BeautifulSoup as bs"
   ]
  },
  {
   "cell_type": "code",
   "execution_count": 3,
   "metadata": {},
   "outputs": [
    {
     "data": {
      "text/plain": [
       "'\\n0\\n2023-01-01\\nUSA\\nMilkshake International\\nJakarta\\n3708000000.0\\n'"
      ]
     },
     "execution_count": 3,
     "metadata": {},
     "output_type": "execute_result"
    }
   ],
   "source": [
    "url = 'https://invoice-scraping.demo.pacmann.ai/'\n",
    "page = requests.get(url).text\n",
    "soup = bs(page)\n",
    "row = soup.find('tbody').find('tr')\n",
    "row.getText()\n"
   ]
  },
  {
   "cell_type": "code",
   "execution_count": 5,
   "metadata": {},
   "outputs": [
    {
     "name": "stdout",
     "output_type": "stream",
     "text": [
      "0 /invoice/0\n"
     ]
    }
   ],
   "source": [
    "invoice_id = row.find('a').getText()\n",
    "invoice_detail = row.find('a')['href']\n",
    "print(invoice_id, invoice_detail)"
   ]
  },
  {
   "cell_type": "code",
   "execution_count": 6,
   "metadata": {},
   "outputs": [
    {
     "name": "stdout",
     "output_type": "stream",
     "text": [
      "2023-01-01\n"
     ]
    }
   ],
   "source": [
    "invoice_date = row.find('td', class_='invoice_date').getText()\n",
    "print(invoice_date)"
   ]
  },
  {
   "cell_type": "code",
   "execution_count": 15,
   "metadata": {},
   "outputs": [
    {
     "name": "stdout",
     "output_type": "stream",
     "text": [
      "{'invoice_id': '0', 'invoice_detail_url': '/invoice/0', 'invoice_date': '2023-01-01', 'country_of_origin': 'USA', 'seller': 'Milkshake International', 'distribution_area': 'Jakarta', 'total_price': 3708000000}\n"
     ]
    }
   ],
   "source": [
    "url = 'https://invoice-scraping.demo.pacmann.ai/'\n",
    "page = requests.get(url).text\n",
    "soup = bs(page)\n",
    "row = soup.find('tbody').find('tr')\n",
    "\n",
    "invoice_id = row.find('a').getText()\n",
    "invoice_detail_url = row.find('a')['href']\n",
    "invoice_date = row.find('td', class_='invoice_date').getText()\n",
    "country_of_origin = row.find('td', class_='country_of_origin').getText()\n",
    "seller = row.find('td', class_='seller').getText()\n",
    "distribution_area = row.find('td', class_='distribution_area').getText()\n",
    "total_price = row.find('td', class_='total_price').getText()\n",
    "\n",
    "row = {\n",
    "    'invoice_id':invoice_id,\n",
    "    'invoice_detail_url' : invoice_detail_url,\n",
    "    'invoice_date':invoice_date,\n",
    "    'country_of_origin':country_of_origin,\n",
    "    'seller':seller,\n",
    "    'distribution_area':distribution_area,\n",
    "    'total_price':int(total_price.split('.')[0]),\n",
    "}\n",
    "\n",
    "print(row)"
   ]
  },
  {
   "cell_type": "code",
   "execution_count": 50,
   "metadata": {},
   "outputs": [],
   "source": [
    "def get_invoice_overview(row):\n",
    "    # url = 'https://invoice-scraping.demo.pacmann.ai/'\n",
    "    # page = requests.get(url).text\n",
    "    # soup = bs(page)\n",
    "    # row = soup.find('tbody').find('tr')\n",
    "\n",
    "    invoice_id = row.find('a').getText()\n",
    "    invoice_detail_url = row.find('a')['href']\n",
    "    invoice_date = row.find('td', class_='invoice_date').getText()\n",
    "    country_of_origin = row.find('td', class_='country_of_origin').getText()\n",
    "    seller = row.find('td', class_='seller').getText()\n",
    "    distribution_area = row.find('td', class_='distribution_area').getText()\n",
    "    total_price = row.find('td', class_='total_price').getText()\n",
    "\n",
    "    invoice_detail = get_invoice_detail(invoice_id)\n",
    "\n",
    "    row = {\n",
    "        'invoice_id':invoice_id,\n",
    "        'invoice_detail_url' : invoice_detail_url,\n",
    "        'invoice_date':invoice_date,\n",
    "        'country_of_origin':country_of_origin,\n",
    "        'seller':seller,\n",
    "        'distribution_area':distribution_area,\n",
    "        'total_price':int(total_price.split('.')[0]),\n",
    "        'detail':invoice_detail\n",
    "    }\n",
    "    return row"
   ]
  },
  {
   "cell_type": "code",
   "execution_count": 45,
   "metadata": {},
   "outputs": [
    {
     "ename": "ValueError",
     "evalue": "empty separator",
     "output_type": "error",
     "traceback": [
      "\u001b[1;31m---------------------------------------------------------------------------\u001b[0m",
      "\u001b[1;31mValueError\u001b[0m                                Traceback (most recent call last)",
      "\u001b[1;32md:\\Code\\DSML\\simple-end-to-end-data-engineering\\main.ipynb Cell 7\u001b[0m in \u001b[0;36m<cell line: 5>\u001b[1;34m()\u001b[0m\n\u001b[0;32m      <a href='vscode-notebook-cell:/d%3A/Code/DSML/simple-end-to-end-data-engineering/main.ipynb#X11sZmlsZQ%3D%3D?line=3'>4</a>\u001b[0m rows \u001b[39m=\u001b[39m soup\u001b[39m.\u001b[39mfind(\u001b[39m'\u001b[39m\u001b[39mtbody\u001b[39m\u001b[39m'\u001b[39m)\u001b[39m.\u001b[39mfind_all(\u001b[39m'\u001b[39m\u001b[39mtr\u001b[39m\u001b[39m'\u001b[39m)\n\u001b[0;32m      <a href='vscode-notebook-cell:/d%3A/Code/DSML/simple-end-to-end-data-engineering/main.ipynb#X11sZmlsZQ%3D%3D?line=4'>5</a>\u001b[0m \u001b[39mfor\u001b[39;00m row \u001b[39min\u001b[39;00m rows:\n\u001b[1;32m----> <a href='vscode-notebook-cell:/d%3A/Code/DSML/simple-end-to-end-data-engineering/main.ipynb#X11sZmlsZQ%3D%3D?line=5'>6</a>\u001b[0m     x \u001b[39m=\u001b[39m get_invoice_overview(row)\n\u001b[0;32m      <a href='vscode-notebook-cell:/d%3A/Code/DSML/simple-end-to-end-data-engineering/main.ipynb#X11sZmlsZQ%3D%3D?line=6'>7</a>\u001b[0m     \u001b[39mprint\u001b[39m(x)\n",
      "\u001b[1;32md:\\Code\\DSML\\simple-end-to-end-data-engineering\\main.ipynb Cell 7\u001b[0m in \u001b[0;36mget_invoice_overview\u001b[1;34m(row)\u001b[0m\n\u001b[0;32m     <a href='vscode-notebook-cell:/d%3A/Code/DSML/simple-end-to-end-data-engineering/main.ipynb#X11sZmlsZQ%3D%3D?line=11'>12</a>\u001b[0m distribution_area \u001b[39m=\u001b[39m row\u001b[39m.\u001b[39mfind(\u001b[39m'\u001b[39m\u001b[39mtd\u001b[39m\u001b[39m'\u001b[39m, class_\u001b[39m=\u001b[39m\u001b[39m'\u001b[39m\u001b[39mdistribution_area\u001b[39m\u001b[39m'\u001b[39m)\u001b[39m.\u001b[39mgetText()\n\u001b[0;32m     <a href='vscode-notebook-cell:/d%3A/Code/DSML/simple-end-to-end-data-engineering/main.ipynb#X11sZmlsZQ%3D%3D?line=12'>13</a>\u001b[0m total_price \u001b[39m=\u001b[39m row\u001b[39m.\u001b[39mfind(\u001b[39m'\u001b[39m\u001b[39mtd\u001b[39m\u001b[39m'\u001b[39m, class_\u001b[39m=\u001b[39m\u001b[39m'\u001b[39m\u001b[39mtotal_price\u001b[39m\u001b[39m'\u001b[39m)\u001b[39m.\u001b[39mgetText()\n\u001b[1;32m---> <a href='vscode-notebook-cell:/d%3A/Code/DSML/simple-end-to-end-data-engineering/main.ipynb#X11sZmlsZQ%3D%3D?line=14'>15</a>\u001b[0m invoice_detail \u001b[39m=\u001b[39m get_invoice_detail(invoice_id)\n\u001b[0;32m     <a href='vscode-notebook-cell:/d%3A/Code/DSML/simple-end-to-end-data-engineering/main.ipynb#X11sZmlsZQ%3D%3D?line=16'>17</a>\u001b[0m row \u001b[39m=\u001b[39m {\n\u001b[0;32m     <a href='vscode-notebook-cell:/d%3A/Code/DSML/simple-end-to-end-data-engineering/main.ipynb#X11sZmlsZQ%3D%3D?line=17'>18</a>\u001b[0m     \u001b[39m'\u001b[39m\u001b[39minvoice_id\u001b[39m\u001b[39m'\u001b[39m:invoice_id,\n\u001b[0;32m     <a href='vscode-notebook-cell:/d%3A/Code/DSML/simple-end-to-end-data-engineering/main.ipynb#X11sZmlsZQ%3D%3D?line=18'>19</a>\u001b[0m     \u001b[39m'\u001b[39m\u001b[39minvoice_detail_url\u001b[39m\u001b[39m'\u001b[39m : invoice_detail_url,\n\u001b[1;32m   (...)\u001b[0m\n\u001b[0;32m     <a href='vscode-notebook-cell:/d%3A/Code/DSML/simple-end-to-end-data-engineering/main.ipynb#X11sZmlsZQ%3D%3D?line=24'>25</a>\u001b[0m     \u001b[39m'\u001b[39m\u001b[39mdetail\u001b[39m\u001b[39m'\u001b[39m:invoice_detail\n\u001b[0;32m     <a href='vscode-notebook-cell:/d%3A/Code/DSML/simple-end-to-end-data-engineering/main.ipynb#X11sZmlsZQ%3D%3D?line=25'>26</a>\u001b[0m }\n\u001b[0;32m     <a href='vscode-notebook-cell:/d%3A/Code/DSML/simple-end-to-end-data-engineering/main.ipynb#X11sZmlsZQ%3D%3D?line=26'>27</a>\u001b[0m \u001b[39mreturn\u001b[39;00m row\n",
      "\u001b[1;32md:\\Code\\DSML\\simple-end-to-end-data-engineering\\main.ipynb Cell 7\u001b[0m in \u001b[0;36mget_invoice_detail\u001b[1;34m(invoice_id)\u001b[0m\n\u001b[0;32m     <a href='vscode-notebook-cell:/d%3A/Code/DSML/simple-end-to-end-data-engineering/main.ipynb#X11sZmlsZQ%3D%3D?line=9'>10</a>\u001b[0m     price \u001b[39m=\u001b[39m row\u001b[39m.\u001b[39mfind(\u001b[39m'\u001b[39m\u001b[39mtd\u001b[39m\u001b[39m'\u001b[39m, class_\u001b[39m=\u001b[39m\u001b[39m'\u001b[39m\u001b[39mprice\u001b[39m\u001b[39m'\u001b[39m)\u001b[39m.\u001b[39mgetText()\n\u001b[0;32m     <a href='vscode-notebook-cell:/d%3A/Code/DSML/simple-end-to-end-data-engineering/main.ipynb#X11sZmlsZQ%3D%3D?line=10'>11</a>\u001b[0m     quantity \u001b[39m=\u001b[39m row\u001b[39m.\u001b[39mfind(\u001b[39m'\u001b[39m\u001b[39mtd\u001b[39m\u001b[39m'\u001b[39m, class_\u001b[39m=\u001b[39m\u001b[39m'\u001b[39m\u001b[39mquantity\u001b[39m\u001b[39m'\u001b[39m)\u001b[39m.\u001b[39mgetText()\n\u001b[0;32m     <a href='vscode-notebook-cell:/d%3A/Code/DSML/simple-end-to-end-data-engineering/main.ipynb#X11sZmlsZQ%3D%3D?line=11'>12</a>\u001b[0m     data \u001b[39m=\u001b[39m {\n\u001b[0;32m     <a href='vscode-notebook-cell:/d%3A/Code/DSML/simple-end-to-end-data-engineering/main.ipynb#X11sZmlsZQ%3D%3D?line=12'>13</a>\u001b[0m         \u001b[39m'\u001b[39m\u001b[39mbrand\u001b[39m\u001b[39m'\u001b[39m:brand,\n\u001b[0;32m     <a href='vscode-notebook-cell:/d%3A/Code/DSML/simple-end-to-end-data-engineering/main.ipynb#X11sZmlsZQ%3D%3D?line=13'>14</a>\u001b[0m         \u001b[39m'\u001b[39m\u001b[39mtype\u001b[39m\u001b[39m'\u001b[39m:type_,\n\u001b[1;32m---> <a href='vscode-notebook-cell:/d%3A/Code/DSML/simple-end-to-end-data-engineering/main.ipynb#X11sZmlsZQ%3D%3D?line=14'>15</a>\u001b[0m         \u001b[39m'\u001b[39m\u001b[39mprice\u001b[39m\u001b[39m'\u001b[39m:\u001b[39mint\u001b[39m(price\u001b[39m.\u001b[39;49msplit(\u001b[39m'\u001b[39;49m\u001b[39m'\u001b[39;49m)[\u001b[39m0\u001b[39m]),\n\u001b[0;32m     <a href='vscode-notebook-cell:/d%3A/Code/DSML/simple-end-to-end-data-engineering/main.ipynb#X11sZmlsZQ%3D%3D?line=15'>16</a>\u001b[0m         \u001b[39m'\u001b[39m\u001b[39mquantity\u001b[39m\u001b[39m'\u001b[39m:quantity\n\u001b[0;32m     <a href='vscode-notebook-cell:/d%3A/Code/DSML/simple-end-to-end-data-engineering/main.ipynb#X11sZmlsZQ%3D%3D?line=16'>17</a>\u001b[0m     }\n\u001b[0;32m     <a href='vscode-notebook-cell:/d%3A/Code/DSML/simple-end-to-end-data-engineering/main.ipynb#X11sZmlsZQ%3D%3D?line=18'>19</a>\u001b[0m     result\u001b[39m.\u001b[39mappend(data)\n\u001b[0;32m     <a href='vscode-notebook-cell:/d%3A/Code/DSML/simple-end-to-end-data-engineering/main.ipynb#X11sZmlsZQ%3D%3D?line=19'>20</a>\u001b[0m \u001b[39mreturn\u001b[39;00m result\n",
      "\u001b[1;31mValueError\u001b[0m: empty separator"
     ]
    }
   ],
   "source": [
    "url = 'https://invoice-scraping.demo.pacmann.ai/'\n",
    "page = requests.get(url).text\n",
    "soup = bs(page)\n",
    "rows = soup.find('tbody').find_all('tr')\n",
    "for row in rows:\n",
    "    x = get_invoice_overview(row)\n",
    "    print(x)"
   ]
  },
  {
   "cell_type": "code",
   "execution_count": 25,
   "metadata": {},
   "outputs": [
    {
     "name": "stdout",
     "output_type": "stream",
     "text": [
      "[<tr>\n",
      "<td class=\"brand\">Apple</td>\n",
      "<td class=\"type\">iPhone 6s</td>\n",
      "<td class=\"price\">3000000.0</td>\n",
      "<td class=\"quantity\">28</td>\n",
      "</tr>, <tr>\n",
      "<td class=\"brand\">Apple</td>\n",
      "<td class=\"type\">iPhone 13 Pro Max</td>\n",
      "<td class=\"price\">22000000.0</td>\n",
      "<td class=\"quantity\">20</td>\n",
      "</tr>, <tr>\n",
      "<td class=\"brand\">Apple</td>\n",
      "<td class=\"type\">iPhone 14 Plus</td>\n",
      "<td class=\"price\">19000000.0</td>\n",
      "<td class=\"quantity\">32</td>\n",
      "</tr>, <tr>\n",
      "<td class=\"brand\">Apple</td>\n",
      "<td class=\"type\">iPhone 14 Pro Max</td>\n",
      "<td class=\"price\">25000000.0</td>\n",
      "<td class=\"quantity\">33</td>\n",
      "</tr>, <tr>\n",
      "<td class=\"brand\">Apple</td>\n",
      "<td class=\"type\">iPhone XS Max</td>\n",
      "<td class=\"price\">11000000.0</td>\n",
      "<td class=\"quantity\">42</td>\n",
      "</tr>, <tr>\n",
      "<td class=\"brand\">Apple</td>\n",
      "<td class=\"type\">iPhone 7</td>\n",
      "<td class=\"price\">5000000.0</td>\n",
      "<td class=\"quantity\">41</td>\n",
      "</tr>, <tr>\n",
      "<td class=\"brand\">Apple</td>\n",
      "<td class=\"type\">iPhone 12 Pro Max</td>\n",
      "<td class=\"price\">20000000.0</td>\n",
      "<td class=\"quantity\">37</td>\n",
      "</tr>, <tr>\n",
      "<td class=\"brand\">Apple</td>\n",
      "<td class=\"type\">iPhone X</td>\n",
      "<td class=\"price\">8000000.0</td>\n",
      "<td class=\"quantity\">43</td>\n",
      "</tr>]\n"
     ]
    }
   ],
   "source": [
    "url = 'https://invoice-scraping.demo.pacmann.ai/invoice/0'\n",
    "page = requests.get(url).text\n",
    "soup = bs(page)\n",
    "rows = soup.find('tbody').find_all('tr')\n",
    "print(row)"
   ]
  },
  {
   "cell_type": "code",
   "execution_count": null,
   "metadata": {},
   "outputs": [],
   "source": [
    "for row in rows:\n",
    "    x = row.getText()\n",
    "    brand = row.find('td', class_='brand').getText()\n",
    "    type_ = row.find('td', class_='type').getText()\n",
    "    price = row.find('td', class_='price').getText()\n",
    "    quantity = row.find('td', class_='quantity').getText()\n",
    "\n",
    "    #bisa juga pake split string\n",
    "    # x.strip().split('\\n')\n",
    "    # print(x)"
   ]
  },
  {
   "cell_type": "code",
   "execution_count": 49,
   "metadata": {},
   "outputs": [],
   "source": [
    "def get_invoice_detail(invoice_id):\n",
    "    url = f'https://invoice-scraping.demo.pacmann.ai/invoice/{invoice_id}'\n",
    "    page = requests.get(url).text\n",
    "    soup = bs(page)\n",
    "    rows = soup.find('tbody').find_all('tr')    \n",
    "    result = []\n",
    "    for row in rows:\n",
    "        brand = row.find('td', class_='brand').getText()\n",
    "        type_ = row.find('td', class_='type').getText()\n",
    "        price = row.find('td', class_='price').getText()\n",
    "        quantity = row.find('td', class_='quantity').getText()\n",
    "        data = {\n",
    "            'brand':brand,\n",
    "            'type':type_,\n",
    "            'price':int(price.split('.')[0]),\n",
    "            'quantity':quantity\n",
    "        }\n",
    "\n",
    "        result.append(data)\n",
    "    return result"
   ]
  },
  {
   "cell_type": "code",
   "execution_count": 51,
   "metadata": {},
   "outputs": [
    {
     "data": {
      "text/plain": [
       "[{'brand': 'Apple', 'type': 'iPhone 6s', 'price': 3000000, 'quantity': '28'},\n",
       " {'brand': 'Apple',\n",
       "  'type': 'iPhone 13 Pro Max',\n",
       "  'price': 22000000,\n",
       "  'quantity': '20'},\n",
       " {'brand': 'Apple',\n",
       "  'type': 'iPhone 14 Plus',\n",
       "  'price': 19000000,\n",
       "  'quantity': '32'},\n",
       " {'brand': 'Apple',\n",
       "  'type': 'iPhone 14 Pro Max',\n",
       "  'price': 25000000,\n",
       "  'quantity': '33'},\n",
       " {'brand': 'Apple',\n",
       "  'type': 'iPhone XS Max',\n",
       "  'price': 11000000,\n",
       "  'quantity': '42'},\n",
       " {'brand': 'Apple', 'type': 'iPhone 7', 'price': 5000000, 'quantity': '41'},\n",
       " {'brand': 'Apple',\n",
       "  'type': 'iPhone 12 Pro Max',\n",
       "  'price': 20000000,\n",
       "  'quantity': '37'},\n",
       " {'brand': 'Apple', 'type': 'iPhone X', 'price': 8000000, 'quantity': '43'}]"
      ]
     },
     "execution_count": 51,
     "metadata": {},
     "output_type": "execute_result"
    }
   ],
   "source": [
    "get_invoice_detail(0)"
   ]
  },
  {
   "attachments": {},
   "cell_type": "markdown",
   "metadata": {},
   "source": [
    "## extract all invoices on a page"
   ]
  },
  {
   "cell_type": "code",
   "execution_count": 52,
   "metadata": {},
   "outputs": [],
   "source": [
    "def get_all_invoice(url):\n",
    "    url = 'https://invoice-scraping.demo.pacmann.ai/'\n",
    "    page = requests.get(url).text\n",
    "    soup = bs(page)\n",
    "    rows = soup.find('tbody').find_all('tr')\n",
    "    result = []\n",
    "    for row in rows:\n",
    "        x = get_invoice_overview(row)\n",
    "        result.append(x)\n",
    "    return result"
   ]
  },
  {
   "attachments": {},
   "cell_type": "markdown",
   "metadata": {},
   "source": [
    "## get all pages"
   ]
  },
  {
   "cell_type": "code",
   "execution_count": 37,
   "metadata": {},
   "outputs": [
    {
     "data": {
      "text/plain": [
       "[39, 78, 117, 156, 195, 234, 273, 312, 351]"
      ]
     },
     "execution_count": 37,
     "metadata": {},
     "output_type": "execute_result"
    }
   ],
   "source": [
    "start = 0 \n",
    "last_ids = []\n",
    "for i in range(10):\n",
    "    if start > 0:\n",
    "        last_ids.append(start)\n",
    "    start += 39\n",
    "last_ids"
   ]
  },
  {
   "cell_type": "code",
   "execution_count": 53,
   "metadata": {},
   "outputs": [
    {
     "name": "stdout",
     "output_type": "stream",
     "text": [
      "https://invoice-scraping.demo.pacmann.ai/\n",
      "https://invoice-scraping.demo.pacmann.ai/nextpage/39\n",
      "https://invoice-scraping.demo.pacmann.ai/nextpage/78\n",
      "https://invoice-scraping.demo.pacmann.ai/nextpage/117\n",
      "https://invoice-scraping.demo.pacmann.ai/nextpage/156\n",
      "https://invoice-scraping.demo.pacmann.ai/nextpage/195\n",
      "https://invoice-scraping.demo.pacmann.ai/nextpage/234\n",
      "https://invoice-scraping.demo.pacmann.ai/nextpage/273\n",
      "https://invoice-scraping.demo.pacmann.ai/nextpage/312\n",
      "https://invoice-scraping.demo.pacmann.ai/nextpage/351\n"
     ]
    }
   ],
   "source": [
    "invoice_data = []\n",
    "url = 'https://invoice-scraping.demo.pacmann.ai/'\n",
    "print(url)\n",
    "invoice_data = get_all_invoice(url)\n",
    "for last_id in last_ids:\n",
    "    url_next_page = f'https://invoice-scraping.demo.pacmann.ai/nextpage/{last_id}'\n",
    "    print(url_next_page)\n",
    "    invoice_data += get_all_invoice(url_next_page)"
   ]
  },
  {
   "cell_type": "code",
   "execution_count": 55,
   "metadata": {},
   "outputs": [
    {
     "data": {
      "text/html": [
       "<div>\n",
       "<style scoped>\n",
       "    .dataframe tbody tr th:only-of-type {\n",
       "        vertical-align: middle;\n",
       "    }\n",
       "\n",
       "    .dataframe tbody tr th {\n",
       "        vertical-align: top;\n",
       "    }\n",
       "\n",
       "    .dataframe thead th {\n",
       "        text-align: right;\n",
       "    }\n",
       "</style>\n",
       "<table border=\"1\" class=\"dataframe\">\n",
       "  <thead>\n",
       "    <tr style=\"text-align: right;\">\n",
       "      <th></th>\n",
       "      <th>invoice_id</th>\n",
       "      <th>invoice_detail_url</th>\n",
       "      <th>invoice_date</th>\n",
       "      <th>country_of_origin</th>\n",
       "      <th>seller</th>\n",
       "      <th>distribution_area</th>\n",
       "      <th>total_price</th>\n",
       "      <th>detail</th>\n",
       "    </tr>\n",
       "  </thead>\n",
       "  <tbody>\n",
       "    <tr>\n",
       "      <th>0</th>\n",
       "      <td>0</td>\n",
       "      <td>/invoice/0</td>\n",
       "      <td>2023-01-01</td>\n",
       "      <td>USA</td>\n",
       "      <td>Milkshake International</td>\n",
       "      <td>Jakarta</td>\n",
       "      <td>3708000000</td>\n",
       "      <td>[{'brand': 'Apple', 'type': 'iPhone 6s', 'pric...</td>\n",
       "    </tr>\n",
       "    <tr>\n",
       "      <th>1</th>\n",
       "      <td>1</td>\n",
       "      <td>/invoice/1</td>\n",
       "      <td>2023-01-02</td>\n",
       "      <td>South Korea</td>\n",
       "      <td>KimchiTEL</td>\n",
       "      <td>Semarang</td>\n",
       "      <td>1227000000</td>\n",
       "      <td>[{'brand': 'Samsung', 'type': 'F250', 'price':...</td>\n",
       "    </tr>\n",
       "    <tr>\n",
       "      <th>2</th>\n",
       "      <td>2</td>\n",
       "      <td>/invoice/2</td>\n",
       "      <td>2023-01-02</td>\n",
       "      <td>USA</td>\n",
       "      <td>Cheeseburger Limited</td>\n",
       "      <td>Serang</td>\n",
       "      <td>2270000000</td>\n",
       "      <td>[{'brand': 'Apple', 'type': 'iPhone 14 Pro Max...</td>\n",
       "    </tr>\n",
       "    <tr>\n",
       "      <th>3</th>\n",
       "      <td>3</td>\n",
       "      <td>/invoice/3</td>\n",
       "      <td>2023-01-02</td>\n",
       "      <td>USA</td>\n",
       "      <td>Cheeseburger Limited</td>\n",
       "      <td>Bandung</td>\n",
       "      <td>1760000000</td>\n",
       "      <td>[{'brand': 'Apple', 'type': 'iPhone 14 Plus', ...</td>\n",
       "    </tr>\n",
       "    <tr>\n",
       "      <th>4</th>\n",
       "      <td>4</td>\n",
       "      <td>/invoice/4</td>\n",
       "      <td>2023-01-02</td>\n",
       "      <td>China</td>\n",
       "      <td>Lamian Communication</td>\n",
       "      <td>Jakarta</td>\n",
       "      <td>416000000</td>\n",
       "      <td>[{'brand': 'vivo', 'type': 'X3S', 'price': 300...</td>\n",
       "    </tr>\n",
       "    <tr>\n",
       "      <th>...</th>\n",
       "      <td>...</td>\n",
       "      <td>...</td>\n",
       "      <td>...</td>\n",
       "      <td>...</td>\n",
       "      <td>...</td>\n",
       "      <td>...</td>\n",
       "      <td>...</td>\n",
       "      <td>...</td>\n",
       "    </tr>\n",
       "    <tr>\n",
       "      <th>395</th>\n",
       "      <td>35</td>\n",
       "      <td>/invoice/35</td>\n",
       "      <td>2023-01-10</td>\n",
       "      <td>USA</td>\n",
       "      <td>Cheeseburger Limited</td>\n",
       "      <td>Yogyakarta</td>\n",
       "      <td>4226000000</td>\n",
       "      <td>[{'brand': 'Apple', 'type': 'iPhone X', 'price...</td>\n",
       "    </tr>\n",
       "    <tr>\n",
       "      <th>396</th>\n",
       "      <td>36</td>\n",
       "      <td>/invoice/36</td>\n",
       "      <td>2023-01-10</td>\n",
       "      <td>China</td>\n",
       "      <td>Mala Telecom</td>\n",
       "      <td>Semarang</td>\n",
       "      <td>656000000</td>\n",
       "      <td>[{'brand': 'Realme', 'type': 'Narzo 30A', 'pri...</td>\n",
       "    </tr>\n",
       "    <tr>\n",
       "      <th>397</th>\n",
       "      <td>37</td>\n",
       "      <td>/invoice/37</td>\n",
       "      <td>2023-01-10</td>\n",
       "      <td>South Korea</td>\n",
       "      <td>BibimbapNET</td>\n",
       "      <td>Bandung</td>\n",
       "      <td>422000000</td>\n",
       "      <td>[{'brand': 'Samsung', 'type': 'Galaxy M22', 'p...</td>\n",
       "    </tr>\n",
       "    <tr>\n",
       "      <th>398</th>\n",
       "      <td>38</td>\n",
       "      <td>/invoice/38</td>\n",
       "      <td>2023-01-10</td>\n",
       "      <td>USA</td>\n",
       "      <td>Cheeseburger Limited</td>\n",
       "      <td>Jakarta</td>\n",
       "      <td>1535000000</td>\n",
       "      <td>[{'brand': 'Apple', 'type': 'iPhone 7', 'price...</td>\n",
       "    </tr>\n",
       "    <tr>\n",
       "      <th>399</th>\n",
       "      <td>39</td>\n",
       "      <td>/invoice/39</td>\n",
       "      <td>2023-01-10</td>\n",
       "      <td>South Korea</td>\n",
       "      <td>KimchiTEL</td>\n",
       "      <td>Bandung</td>\n",
       "      <td>1719000000</td>\n",
       "      <td>[{'brand': 'Samsung', 'type': 'Z', 'price': 18...</td>\n",
       "    </tr>\n",
       "  </tbody>\n",
       "</table>\n",
       "<p>400 rows × 8 columns</p>\n",
       "</div>"
      ],
      "text/plain": [
       "    invoice_id invoice_detail_url invoice_date country_of_origin  \\\n",
       "0            0         /invoice/0   2023-01-01               USA   \n",
       "1            1         /invoice/1   2023-01-02       South Korea   \n",
       "2            2         /invoice/2   2023-01-02               USA   \n",
       "3            3         /invoice/3   2023-01-02               USA   \n",
       "4            4         /invoice/4   2023-01-02             China   \n",
       "..         ...                ...          ...               ...   \n",
       "395         35        /invoice/35   2023-01-10               USA   \n",
       "396         36        /invoice/36   2023-01-10             China   \n",
       "397         37        /invoice/37   2023-01-10       South Korea   \n",
       "398         38        /invoice/38   2023-01-10               USA   \n",
       "399         39        /invoice/39   2023-01-10       South Korea   \n",
       "\n",
       "                      seller distribution_area  total_price  \\\n",
       "0    Milkshake International           Jakarta   3708000000   \n",
       "1                  KimchiTEL          Semarang   1227000000   \n",
       "2       Cheeseburger Limited            Serang   2270000000   \n",
       "3       Cheeseburger Limited           Bandung   1760000000   \n",
       "4       Lamian Communication           Jakarta    416000000   \n",
       "..                       ...               ...          ...   \n",
       "395     Cheeseburger Limited        Yogyakarta   4226000000   \n",
       "396             Mala Telecom          Semarang    656000000   \n",
       "397              BibimbapNET           Bandung    422000000   \n",
       "398     Cheeseburger Limited           Jakarta   1535000000   \n",
       "399                KimchiTEL           Bandung   1719000000   \n",
       "\n",
       "                                                detail  \n",
       "0    [{'brand': 'Apple', 'type': 'iPhone 6s', 'pric...  \n",
       "1    [{'brand': 'Samsung', 'type': 'F250', 'price':...  \n",
       "2    [{'brand': 'Apple', 'type': 'iPhone 14 Pro Max...  \n",
       "3    [{'brand': 'Apple', 'type': 'iPhone 14 Plus', ...  \n",
       "4    [{'brand': 'vivo', 'type': 'X3S', 'price': 300...  \n",
       "..                                                 ...  \n",
       "395  [{'brand': 'Apple', 'type': 'iPhone X', 'price...  \n",
       "396  [{'brand': 'Realme', 'type': 'Narzo 30A', 'pri...  \n",
       "397  [{'brand': 'Samsung', 'type': 'Galaxy M22', 'p...  \n",
       "398  [{'brand': 'Apple', 'type': 'iPhone 7', 'price...  \n",
       "399  [{'brand': 'Samsung', 'type': 'Z', 'price': 18...  \n",
       "\n",
       "[400 rows x 8 columns]"
      ]
     },
     "execution_count": 55,
     "metadata": {},
     "output_type": "execute_result"
    }
   ],
   "source": [
    "import pandas as pd\n",
    "\n",
    "df = pd.DataFrame(invoice_data)\n",
    "df"
   ]
  }
 ],
 "metadata": {
  "kernelspec": {
   "display_name": "Python 3",
   "language": "python",
   "name": "python3"
  },
  "language_info": {
   "codemirror_mode": {
    "name": "ipython",
    "version": 3
   },
   "file_extension": ".py",
   "mimetype": "text/x-python",
   "name": "python",
   "nbconvert_exporter": "python",
   "pygments_lexer": "ipython3",
   "version": "3.9.6"
  },
  "orig_nbformat": 4
 },
 "nbformat": 4,
 "nbformat_minor": 2
}
